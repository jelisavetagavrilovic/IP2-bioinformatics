{
 "cells": [
  {
   "cell_type": "code",
   "execution_count": 1,
   "id": "148b4fa3-78bf-4e34-b53c-4d6214f2b49d",
   "metadata": {},
   "outputs": [],
   "source": [
    "import os\n",
    "from Bio import SeqIO\n",
    "from Bio.Seq import Seq"
   ]
  },
  {
   "cell_type": "code",
   "execution_count": 2,
   "id": "46f3366b-ee2c-46a2-9b99-1ca4867c7c8d",
   "metadata": {},
   "outputs": [],
   "source": [
    "def ucitaj_genome(putanja_do_foldera):\n",
    "    genomi = {}\n",
    "    for ime_fajla in os.listdir(putanja_do_foldera): \n",
    "        if ime_fajla.endswith(\".fasta\"):\n",
    "            putanja_do_fajla = os.path.join(putanja_do_foldera, ime_fajla)\n",
    "            with open(putanja_do_fajla, \"r\") as fajl:\n",
    "                virus = ime_fajla[:-6]\n",
    "                for genom in SeqIO.parse(fajl, \"fasta\"):\n",
    "                    genomi[virus] = genom.seq\n",
    "                    \n",
    "    return genomi"
   ]
  },
  {
   "cell_type": "code",
   "execution_count": 3,
   "id": "74bec3e3-d490-4303-8f2b-4161f6575c8a",
   "metadata": {},
   "outputs": [],
   "source": [
    "def ucitaj_proteine(putanja_do_foldera):\n",
    "    proteini = {}\n",
    "    for ime_fajla in os.listdir(putanja_do_foldera):\n",
    "        if ime_fajla.endswith(\".fasta\"):\n",
    "            putanja_do_fajla = os.path.join(putanja_do_foldera, ime_fajla)\n",
    "            with open(putanja_do_fajla, \"r\") as fajl:\n",
    "                virus = ime_fajla[:-6]\n",
    "                proteini[virus] = {}\n",
    "                for protein in SeqIO.parse(fajl, \"fasta\"):\n",
    "                    naziv_proteina = protein.description.split('|')[1]\n",
    "                    sekvenca = protein.seq\n",
    "                    proteini[virus][naziv_proteina] = sekvenca\n",
    "\n",
    "    return proteini"
   ]
  },
  {
   "cell_type": "code",
   "execution_count": 4,
   "id": "60cc132a-7056-4e1b-8fa8-6b3f2b769b3a",
   "metadata": {},
   "outputs": [],
   "source": [
    "# Putanja do direktorijuma sa fasta fajlovima\n",
    "putanja_do_foldera = \"podaci/genomi\"\n",
    "# Učitavanje genoma iz datoteka\n",
    "genomi = ucitaj_genome(putanja_do_foldera)\n",
    "\n",
    "# Putanja do direktorijuma sa fasta fajlovima\n",
    "putanja_do_foldera = \"podaci/proteini\"\n",
    "# Učitavanje proteina iz datoteka\n",
    "proteini = ucitaj_proteine(putanja_do_foldera)"
   ]
  },
  {
   "cell_type": "code",
   "execution_count": 5,
   "id": "42bd6f1f-1dba-4f14-848e-c693412ba196",
   "metadata": {},
   "outputs": [],
   "source": [
    "from math import inf"
   ]
  },
  {
   "cell_type": "code",
   "execution_count": 6,
   "id": "5efe813a-a8c2-4818-810a-19a8a21e7576",
   "metadata": {},
   "outputs": [],
   "source": [
    "def opseg_duzina_orfova(proteini):\n",
    "    minimum = inf\n",
    "    maksimum = -inf\n",
    "    for virus, protein in proteini.items():\n",
    "        for naziv, sekvenca in protein.items():\n",
    "            if len(sekvenca) < minimum:\n",
    "                minimum = len(sekvenca)\n",
    "            if len(sekvenca) > maksimum:\n",
    "                maksimum = len(sekvenca)\n",
    "\n",
    "    return 3*minimum, 3*maksimum"
   ]
  },
  {
   "cell_type": "code",
   "execution_count": 7,
   "id": "d1ef940c-ebda-45ee-8b88-9f775d8738ec",
   "metadata": {},
   "outputs": [],
   "source": [
    "def pronadji_orf(sekvenca, minimum, maksimum):\n",
    "    start_kodon = 'AUG'\n",
    "    stop_kodoni = ['UAA', 'UAG', 'UGA']\n",
    "    orfovi = []\n",
    "    \n",
    "    # Pronalazenje svih pozicija start kodona\n",
    "    start_pozicije = [i for i in range(len(sekvenca) - 2) if sekvenca[i:i+3] == start_kodon]\n",
    "    \n",
    "    for start_poz in start_pozicije:\n",
    "        orf = ''\n",
    "        for i in range(start_poz, len(sekvenca) - 2, 3):\n",
    "            kodon = sekvenca[i:i+3]\n",
    "            if kodon in stop_kodoni:\n",
    "                if len(orf) >= minimum  and  len(orf) <= maksimum:\n",
    "                    orfovi.append((start_poz, i+3, orf))\n",
    "                break\n",
    "            if len(orf) > maksimum:\n",
    "                break\n",
    "            orf += kodon\n",
    "\n",
    "    return orfovi"
   ]
  },
  {
   "cell_type": "code",
   "execution_count": 8,
   "id": "dde46d6a-ade9-463d-9e47-07a9952744a1",
   "metadata": {},
   "outputs": [
    {
     "ename": "NameError",
     "evalue": "name 'sekvenca' is not defined",
     "output_type": "error",
     "traceback": [
      "\u001b[0;31m---------------------------------------------------------------------------\u001b[0m",
      "\u001b[0;31mNameError\u001b[0m                                 Traceback (most recent call last)",
      "Cell \u001b[0;32mIn[8], line 12\u001b[0m\n\u001b[1;32m      9\u001b[0m minimum, maksimum \u001b[38;5;241m=\u001b[39m opseg_duzina_orfova(proteini)\n\u001b[1;32m     11\u001b[0m \u001b[38;5;66;03m# Pronalazenje ORF-ova u sekvenci\u001b[39;00m\n\u001b[0;32m---> 12\u001b[0m orfovi \u001b[38;5;241m=\u001b[39m \u001b[43mpronadji_orf\u001b[49m\u001b[43m(\u001b[49m\u001b[43mrnk_genom\u001b[49m\u001b[43m,\u001b[49m\u001b[43m \u001b[49m\u001b[43mminimum\u001b[49m\u001b[43m,\u001b[49m\u001b[43m \u001b[49m\u001b[43mmaksimum\u001b[49m\u001b[43m)\u001b[49m\n\u001b[1;32m     14\u001b[0m \u001b[38;5;66;03m# Prevodjenje ORF-ova u sekvence aminokiselina i poredjenje sa referentnim proteinima\u001b[39;00m\n\u001b[1;32m     15\u001b[0m \u001b[38;5;28;01mfor\u001b[39;00m start, end, orf_sekv \u001b[38;5;129;01min\u001b[39;00m orfovi:\n",
      "Cell \u001b[0;32mIn[7], line 7\u001b[0m, in \u001b[0;36mpronadji_orf\u001b[0;34m(rnk_sekvenca, minimum, maksimum)\u001b[0m\n\u001b[1;32m      4\u001b[0m orfovi \u001b[38;5;241m=\u001b[39m []\n\u001b[1;32m      6\u001b[0m \u001b[38;5;66;03m# Pronalazenje svih pozicija start kodona\u001b[39;00m\n\u001b[0;32m----> 7\u001b[0m start_pozicije \u001b[38;5;241m=\u001b[39m [i \u001b[38;5;28;01mfor\u001b[39;00m i \u001b[38;5;129;01min\u001b[39;00m \u001b[38;5;28mrange\u001b[39m(\u001b[38;5;28mlen\u001b[39m(\u001b[43msekvenca\u001b[49m) \u001b[38;5;241m-\u001b[39m \u001b[38;5;241m2\u001b[39m) \u001b[38;5;28;01mif\u001b[39;00m sekvenca[i:i\u001b[38;5;241m+\u001b[39m\u001b[38;5;241m3\u001b[39m] \u001b[38;5;241m==\u001b[39m start_kodon]\n\u001b[1;32m      9\u001b[0m \u001b[38;5;28;01mfor\u001b[39;00m start_poz \u001b[38;5;129;01min\u001b[39;00m start_pozicije:\n\u001b[1;32m     10\u001b[0m     orf \u001b[38;5;241m=\u001b[39m \u001b[38;5;124m'\u001b[39m\u001b[38;5;124m'\u001b[39m\n",
      "\u001b[0;31mNameError\u001b[0m: name 'sekvenca' is not defined"
     ]
    }
   ],
   "source": [
    "proteinske_sekvence_u_genomima = {}\n",
    "for virus, genom in genomi.items(): \n",
    "    proteinske_sekvence_u_genomima[virus] = {}\n",
    "    # Transkripcija DNK u RNK\n",
    "    rnk_genom = Seq(genom).transcribe()\n",
    "\n",
    "    # Kako bismo ubrzali proces poredjenja, izdvajacemo samo ORF-ove koji nisu kraci od najkraceg \n",
    "    # i nisu duzi od najduzeg referentnog proteina\n",
    "    minimum, maksimum = opseg_duzina_orfova(proteini)\n",
    "    \n",
    "    # Pronalazenje ORF-ova u sekvenci\n",
    "    orfovi = pronadji_orf(rnk_genom, minimum, maksimum)\n",
    "    \n",
    "    # Prevodjenje ORF-ova u sekvence aminokiselina i poredjenje sa referentnim proteinima\n",
    "    for start, end, orf_sekv in orfovi:\n",
    "        sekv_aminokiselina = orf_sekv.translate()\n",
    "\n",
    "        for naziv, protein in proteini[virus].items():\n",
    "            if protein == sekv_aminokiselina:\n",
    "                proteinske_sekvence_u_genomima[virus][naziv] = genomi[virus][start:end].transcribe()"
   ]
  },
  {
   "cell_type": "code",
   "execution_count": null,
   "id": "42adb5ff-d8ce-49d4-8f44-c0ea30b779f6",
   "metadata": {},
   "outputs": [],
   "source": [
    "# bcov\n",
    "proteinske_sekvence_u_genomima['bcov']['orf1ab polyprotein [Bovine coronavirus]'] = \\\n",
    "        (genomi['bcov'][210:13332] + genomi['bcov'][13331:21491]).transcribe()"
   ]
  },
  {
   "cell_type": "code",
   "execution_count": null,
   "id": "73f778f0-d5e8-4221-986f-b87c82d7d423",
   "metadata": {},
   "outputs": [],
   "source": [
    "# human229e\n",
    "proteinske_sekvence_u_genomima['human229e']['replicase polyprotein 1ab [Human coronavirus 229E]'] = \\\n",
    "        (genomi['human229e'][292:12520] + genomi['human229e'][12519:20565]).transcribe()"
   ]
  },
  {
   "cell_type": "code",
   "execution_count": null,
   "id": "b3ed94d7-3598-49ca-a1fe-bcd362e6ae43",
   "metadata": {},
   "outputs": [],
   "source": [
    "# humanoc43\n",
    "proteinske_sekvence_u_genomima['humanoc43']['ORF1ab polyprotein [Human coronavirus OC43]'] = \\\n",
    "        (genomi['humanoc43'][209:13340] + genomi['humanoc43'][13339:21493]).transcribe()"
   ]
  },
  {
   "cell_type": "code",
   "execution_count": null,
   "id": "2eacf534-e4aa-4d72-ba4a-1945bf44eb12",
   "metadata": {},
   "outputs": [],
   "source": [
    "# mers\n",
    "proteinske_sekvence_u_genomima['mers']['1AB polyprotein [Middle East respiratory syndrome-related coronavirus]'] = \\\n",
    "        (genomi['mers'][278:13433] + genomi['mers'][13432:21511]).transcribe()"
   ]
  },
  {
   "cell_type": "code",
   "execution_count": null,
   "id": "9528b17e-79bb-42a8-83f9-8d66ff9aef37",
   "metadata": {},
   "outputs": [],
   "source": [
    "# sars1\n",
    "proteinske_sekvence_u_genomima['sars1']['ORF1ab polyprotein [SARS coronavirus Tor2]'] = \\\n",
    "        (genomi['sars1'][264:13392] + genomi['sars1'][13391:21482]).transcribe()"
   ]
  },
  {
   "cell_type": "code",
   "execution_count": null,
   "id": "d1e0cd74-d280-4e40-a251-991b76b609d9",
   "metadata": {},
   "outputs": [],
   "source": [
    "with open('podaci/proteini/rnk.fasta', 'w') as f:\n",
    "    for virus, kodovi in genomi.items():\n",
    "        for naziv, protein in proteinske_sekvence_u_genomima[virus].items():\n",
    "            f.write(f'>{virus} | {naziv}\\n')\n",
    "            f.write(f'{protein}\\n\\n')"
   ]
  }
 ],
 "metadata": {
  "kernelspec": {
   "display_name": "Python 3 (ipykernel)",
   "language": "python",
   "name": "python3"
  },
  "language_info": {
   "codemirror_mode": {
    "name": "ipython",
    "version": 3
   },
   "file_extension": ".py",
   "mimetype": "text/x-python",
   "name": "python",
   "nbconvert_exporter": "python",
   "pygments_lexer": "ipython3",
   "version": "3.11.4"
  }
 },
 "nbformat": 4,
 "nbformat_minor": 5
}
